{
 "cells": [
  {
   "cell_type": "markdown",
   "id": "5214f990",
   "metadata": {},
   "source": [
    "# Task-1 : URL Shortener"
   ]
  },
  {
   "cell_type": "code",
   "execution_count": 4,
   "id": "7c41fea4",
   "metadata": {},
   "outputs": [],
   "source": [
    "import pyshorteners"
   ]
  },
  {
   "cell_type": "code",
   "execution_count": 5,
   "id": "fb0aed3b",
   "metadata": {},
   "outputs": [
    {
     "name": "stdout",
     "output_type": "stream",
     "text": [
      "Enter the URL to shorten: https://www.manabadi.co.in/institute/Universities-Boards-Entrance-exams-recruitment-exams-of-AP-and-TS.htm\n"
     ]
    }
   ],
   "source": [
    "long_url = input(\"Enter the URL to shorten: \")"
   ]
  },
  {
   "cell_type": "code",
   "execution_count": 6,
   "id": "60d638f7",
   "metadata": {},
   "outputs": [
    {
     "name": "stdout",
     "output_type": "stream",
     "text": [
      "The Shortened URL is: https://tinyurl.com/24dhxfta\n"
     ]
    }
   ],
   "source": [
    "type_tiny = pyshorteners.Shortener()\n",
    "short_url = type_tiny.tinyurl.short(long_url)\n",
    "print(\"The Shortened URL is:\", short_url)"
   ]
  },
  {
   "cell_type": "markdown",
   "id": "3a025510",
   "metadata": {},
   "source": [
    "# Task-2 : Web Browser"
   ]
  },
  {
   "cell_type": "code",
   "execution_count": 7,
   "id": "bc736e5f",
   "metadata": {},
   "outputs": [],
   "source": [
    "import tkinter as tk\n",
    "import webbrowser"
   ]
  },
  {
   "cell_type": "code",
   "execution_count": 8,
   "id": "1f7598c5",
   "metadata": {},
   "outputs": [],
   "source": [
    "def open_url():\n",
    "    url = url_entry.get()\n",
    "    webbrowser.open(url)"
   ]
  },
  {
   "cell_type": "code",
   "execution_count": 9,
   "id": "0baf20f7",
   "metadata": {},
   "outputs": [
    {
     "data": {
      "text/plain": [
       "''"
      ]
     },
     "execution_count": 9,
     "metadata": {},
     "output_type": "execute_result"
    }
   ],
   "source": [
    "root = tk.Tk()\n",
    "root.title(\"Simple Web Browser\")"
   ]
  },
  {
   "cell_type": "code",
   "execution_count": 10,
   "id": "da8d8134",
   "metadata": {},
   "outputs": [],
   "source": [
    "url_entry = tk.Entry(root, width=50)\n",
    "url_entry.pack(pady=10)"
   ]
  },
  {
   "cell_type": "code",
   "execution_count": 11,
   "id": "94b6c1a2",
   "metadata": {},
   "outputs": [],
   "source": [
    "open_button = tk.Button(root, text=\"Open\", command=open_url)\n",
    "open_button.pack()"
   ]
  },
  {
   "cell_type": "code",
   "execution_count": 12,
   "id": "76d7795b",
   "metadata": {},
   "outputs": [],
   "source": [
    "root.mainloop()"
   ]
  },
  {
   "cell_type": "code",
   "execution_count": null,
   "id": "935ba98f",
   "metadata": {},
   "outputs": [],
   "source": []
  }
 ],
 "metadata": {
  "kernelspec": {
   "display_name": "Python 3 (ipykernel)",
   "language": "python",
   "name": "python3"
  },
  "language_info": {
   "codemirror_mode": {
    "name": "ipython",
    "version": 3
   },
   "file_extension": ".py",
   "mimetype": "text/x-python",
   "name": "python",
   "nbconvert_exporter": "python",
   "pygments_lexer": "ipython3",
   "version": "3.11.5"
  }
 },
 "nbformat": 4,
 "nbformat_minor": 5
}
